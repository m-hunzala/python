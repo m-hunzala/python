{
  "nbformat": 4,
  "nbformat_minor": 0,
  "metadata": {
    "colab": {
      "provenance": [],
      "mount_file_id": "1m1hGJLChILQNEmZKNHMzGH67H8UsFUCe",
      "authorship_tag": "ABX9TyNJcHpNlogc01/vGTWB6bwY",
      "include_colab_link": true
    },
    "kernelspec": {
      "name": "python3",
      "display_name": "Python 3"
    },
    "language_info": {
      "name": "python"
    }
  },
  "cells": [
    {
      "cell_type": "markdown",
      "metadata": {
        "id": "view-in-github",
        "colab_type": "text"
      },
      "source": [
        "<a href=\"https://colab.research.google.com/github/m-hunzala/python/blob/main/countdown_timer_06.ipynb\" target=\"_parent\"><img src=\"https://colab.research.google.com/assets/colab-badge.svg\" alt=\"Open In Colab\"/></a>"
      ]
    },
    {
      "cell_type": "code",
      "source": [
        "import time\n",
        "\n",
        "def countdown_timer():\n",
        "    print(\"Welcome to the Countdown Timer!\")\n",
        "    try:\n",
        "        # Ask the user for the countdown time in seconds\n",
        "        total_seconds = int(input(\"Enter the countdown time in seconds: \"))\n",
        "\n",
        "        # Start the countdown\n",
        "        while total_seconds > 0:\n",
        "            # Convert seconds to minutes and seconds\n",
        "            minutes, seconds = divmod(total_seconds, 60)\n",
        "            timer = f\"{minutes:02d}:{seconds:02d}\"\n",
        "            print(timer, end=\"\\r\")  # Overwrites the same line\n",
        "            time.sleep(1)  # Wait for 1 second\n",
        "            total_seconds -= 1\n",
        "\n",
        "        # Time's up!\n",
        "        print(\"00:00\")\n",
        "        print(\"Time's up! 🎉\")\n",
        "\n",
        "    except ValueError:\n",
        "        print(\"Please enter a valid number for the countdown time.\")\n",
        "\n",
        "# Run the timer\n",
        "countdown_timer()\n"
      ],
      "metadata": {
        "colab": {
          "base_uri": "https://localhost:8080/"
        },
        "id": "hp3tS1-l07YO",
        "outputId": "0255167c-5361-46de-be3c-64be4154fa10"
      },
      "execution_count": 3,
      "outputs": [
        {
          "output_type": "stream",
          "name": "stdout",
          "text": [
            "Welcome to the Countdown Timer!\n",
            "Enter the countdown time in seconds: 3\n",
            "00:00\n",
            "Time's up! 🎉\n"
          ]
        }
      ]
    }
  ]
}