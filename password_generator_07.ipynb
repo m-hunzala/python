{
  "nbformat": 4,
  "nbformat_minor": 0,
  "metadata": {
    "colab": {
      "provenance": [],
      "authorship_tag": "ABX9TyNkJCl2662FzxZfyd0GyOUY",
      "include_colab_link": true
    },
    "kernelspec": {
      "name": "python3",
      "display_name": "Python 3"
    },
    "language_info": {
      "name": "python"
    }
  },
  "cells": [
    {
      "cell_type": "markdown",
      "metadata": {
        "id": "view-in-github",
        "colab_type": "text"
      },
      "source": [
        "<a href=\"https://colab.research.google.com/github/m-hunzala/python/blob/main/password_generator_07.ipynb\" target=\"_parent\"><img src=\"https://colab.research.google.com/assets/colab-badge.svg\" alt=\"Open In Colab\"/></a>"
      ]
    },
    {
      "cell_type": "code",
      "execution_count": null,
      "metadata": {
        "colab": {
          "base_uri": "https://localhost:8080/"
        },
        "id": "zvxnRu3H5lMq",
        "outputId": "5dc1e14b-b5ff-43dc-a6d7-297451642762"
      },
      "outputs": [
        {
          "output_type": "stream",
          "name": "stdout",
          "text": [
            "Welcome to the Password Generator!\n"
          ]
        }
      ],
      "source": [
        "import random\n",
        "import string\n",
        "\n",
        "def password_generator():\n",
        "    print(\"Welcome to the Password Generator!\")\n",
        "\n",
        "    try:\n",
        "        # Ask the user for the password length\n",
        "        length = int(input(\"Enter the desired length of the password: \"))\n",
        "\n",
        "        if length < 4:\n",
        "            print(\"Password length should be at least 4 characters for a strong password.\")\n",
        "            return\n",
        "\n",
        "        # Define character sets for the password\n",
        "        lowercase = string.ascii_lowercase\n",
        "        uppercase = string.ascii_uppercase\n",
        "        digits = string.digits\n",
        "        special_characters = string.punctuation\n",
        "\n",
        "        # Combine all character sets\n",
        "        all_characters = lowercase + uppercase + digits + special_characters\n",
        "\n",
        "        # Ensure the password has at least one character from each set\n",
        "        password = [\n",
        "            random.choice(lowercase),\n",
        "            random.choice(uppercase),\n",
        "            random.choice(digits),\n",
        "            random.choice(special_characters)\n",
        "        ]\n",
        "\n",
        "        # Fill the rest of the password length with random characters\n",
        "        password += random.choices(all_characters, k=length - 4)\n",
        "\n",
        "        # Shuffle the password list to randomize the order\n",
        "        random.shuffle(password)\n",
        "\n",
        "        # Join the list into a single string\n",
        "        final_password = \"\".join(password)\n",
        "\n",
        "        # Display the generated password\n",
        "        print(\"\\nYour generated password is:\", final_password)\n",
        "\n",
        "    except ValueError:\n",
        "        print(\"Please enter a valid number for the password length.\")\n",
        "\n",
        "# Run the password generator\n",
        "password_generator()\n"
      ]
    },
    {
      "cell_type": "code",
      "source": [],
      "metadata": {
        "id": "BzBeSU376Cno"
      },
      "execution_count": null,
      "outputs": []
    }
  ]
}