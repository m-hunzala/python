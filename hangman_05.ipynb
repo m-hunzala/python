{
  "nbformat": 4,
  "nbformat_minor": 0,
  "metadata": {
    "colab": {
      "provenance": [],
      "authorship_tag": "ABX9TyMZMCUfHJBCua8T7fVSP6BQ",
      "include_colab_link": true
    },
    "kernelspec": {
      "name": "python3",
      "display_name": "Python 3"
    },
    "language_info": {
      "name": "python"
    }
  },
  "cells": [
    {
      "cell_type": "markdown",
      "metadata": {
        "id": "view-in-github",
        "colab_type": "text"
      },
      "source": [
        "<a href=\"https://colab.research.google.com/github/m-hunzala/python/blob/main/hangman_05.ipynb\" target=\"_parent\"><img src=\"https://colab.research.google.com/assets/colab-badge.svg\" alt=\"Open In Colab\"/></a>"
      ]
    },
    {
      "cell_type": "code",
      "source": [
        "import random\n",
        "\n",
        "def hangman():\n",
        "    # List of words for the game\n",
        "    words = [\"python\", \"programming\", \"hangman\", \"colab\", \"game\", \"developer\", \"learning\"]\n",
        "\n",
        "    # Select a random word\n",
        "    word_to_guess = random.choice(words).lower()\n",
        "    guessed_letters = []  # List to track guessed letters\n",
        "    attempts = 6  # Maximum number of incorrect guesses\n",
        "\n",
        "    print(\"Welcome to the Hangman Game!\")\n",
        "    print(\"You have 6 attempts to guess the word.\\n\")\n",
        "\n",
        "    # Display the word with underscores\n",
        "    display_word = [\"_\"] * len(word_to_guess)\n",
        "\n",
        "    # Game loop\n",
        "    while attempts > 0:\n",
        "        print(\"Word: \", \" \".join(display_word))\n",
        "        print(f\"Attempts left: {attempts}\")\n",
        "        print(f\"Guessed letters: {', '.join(guessed_letters)}\\n\")\n",
        "\n",
        "        # Ask user for input\n",
        "        guess = input(\"Guess a letter: \").lower()\n",
        "\n",
        "        # Check for valid input\n",
        "        if len(guess) != 1 or not guess.isalpha():\n",
        "            print(\"Please enter a single letter.\\n\")\n",
        "            continue\n",
        "\n",
        "        # Check if letter was already guessed\n",
        "        if guess in guessed_letters:\n",
        "            print(\"You already guessed that letter. Try again.\\n\")\n",
        "            continue\n",
        "\n",
        "        # Add the guess to the guessed letters\n",
        "        guessed_letters.append(guess)\n",
        "\n",
        "        # Check if the guess is in the word\n",
        "        if guess in word_to_guess:\n",
        "            print(\"Good job! That letter is in the word.\\n\")\n",
        "            # Update the display_word with the correct guesses\n",
        "            for index, letter in enumerate(word_to_guess):\n",
        "                if letter == guess:\n",
        "                    display_word[index] = guess\n",
        "        else:\n",
        "            print(\"Oops! That letter is not in the word.\\n\")\n",
        "            attempts -= 1  # Deduct an attempt for an incorrect guess\n",
        "\n",
        "        # Check if the word is fully guessed\n",
        "        if \"_\" not in display_word:\n",
        "            print(\"Congratulations! You guessed the word:\", word_to_guess)\n",
        "            break\n",
        "\n",
        "    # Game over message\n",
        "    if \"_\" in display_word:\n",
        "        print(\"\\nGame Over! The word was:\", word_to_guess)\n",
        "\n",
        "# Run the game\n",
        "hangman()\n"
      ],
      "metadata": {
        "id": "j6SD7y0W5M0M"
      },
      "execution_count": null,
      "outputs": []
    }
  ]
}