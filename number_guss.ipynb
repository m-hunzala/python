{
  "nbformat": 4,
  "nbformat_minor": 0,
  "metadata": {
    "colab": {
      "provenance": [],
      "authorship_tag": "ABX9TyNYeVbpNzcB/vBuRqvBXh74",
      "include_colab_link": true
    },
    "kernelspec": {
      "name": "python3",
      "display_name": "Python 3"
    },
    "language_info": {
      "name": "python"
    }
  },
  "cells": [
    {
      "cell_type": "markdown",
      "metadata": {
        "id": "view-in-github",
        "colab_type": "text"
      },
      "source": [
        "<a href=\"https://colab.research.google.com/github/m-hunzala/python/blob/main/number_guss.ipynb\" target=\"_parent\"><img src=\"https://colab.research.google.com/assets/colab-badge.svg\" alt=\"Open In Colab\"/></a>"
      ]
    },
    {
      "cell_type": "code",
      "execution_count": null,
      "metadata": {
        "colab": {
          "base_uri": "https://localhost:8080/"
        },
        "id": "Rg1NjmRylibN",
        "outputId": "20d5a2e7-e3e2-4a9d-e6c6-29adf338ad12"
      },
      "outputs": [
        {
          "output_type": "stream",
          "name": "stdout",
          "text": [
            "Welcome to the Guess the Number Game!\n",
            "I have picked a number between 1 and 10. Can you guess what it is?\n",
            "Enter your guess (between 1 and 10): 5\n",
            "Too low! Try again.\n",
            "Enter your guess (between 1 and 10): 8\n",
            "Congratulations! You guessed the number 8 in 2 attempts.\n"
          ]
        }
      ],
      "source": [
        "import random\n",
        "\n",
        "def guess_the_number():\n",
        "    print(\"Welcome to the Guess the Number Game!\")\n",
        "    print(\"I have picked a number between 1 and 10. Can you guess what it is?\")\n",
        "\n",
        "    # Generate a random number between 1 and 10\n",
        "    number_to_guess = random.randint(1, 10)\n",
        "    attempts = 0\n",
        "\n",
        "    while True:\n",
        "        try:\n",
        "            # Prompt the user for their guess\n",
        "            guess = int(input(\"Enter your guess (between 1 and 10): \"))\n",
        "            attempts += 1\n",
        "\n",
        "            if guess < 1 or guess > 10:\n",
        "                print(\"Please guess a number within the range of 1 to 10.\")\n",
        "            elif guess < number_to_guess:\n",
        "                print(\"Too low! Try again.\")\n",
        "            elif guess > number_to_guess:\n",
        "                print(\"Too high! Try again.\")\n",
        "            else:\n",
        "                print(f\"Congratulations! You guessed the number {number_to_guess} in {attempts} attempts.\")\n",
        "                break\n",
        "        except ValueError:\n",
        "            print(\"Invalid input. Please enter a valid number.\")\n",
        "\n",
        "# Run the game\n",
        "guess_the_number()\n"
      ]
    }
  ]
}