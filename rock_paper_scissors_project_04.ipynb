{
  "nbformat": 4,
  "nbformat_minor": 0,
  "metadata": {
    "colab": {
      "provenance": [],
      "authorship_tag": "ABX9TyM5cwMlFHE9K1FcyczuvHMt",
      "include_colab_link": true
    },
    "kernelspec": {
      "name": "python3",
      "display_name": "Python 3"
    },
    "language_info": {
      "name": "python"
    }
  },
  "cells": [
    {
      "cell_type": "markdown",
      "metadata": {
        "id": "view-in-github",
        "colab_type": "text"
      },
      "source": [
        "<a href=\"https://colab.research.google.com/github/m-hunzala/python/blob/main/rock_paper_scissors_project_04.ipynb\" target=\"_parent\"><img src=\"https://colab.research.google.com/assets/colab-badge.svg\" alt=\"Open In Colab\"/></a>"
      ]
    },
    {
      "cell_type": "code",
      "execution_count": null,
      "metadata": {
        "colab": {
          "base_uri": "https://localhost:8080/"
        },
        "id": "Gno6W_CJx2io",
        "outputId": "4dad380a-9686-4e95-9999-2fceb076a1de"
      },
      "outputs": [
        {
          "output_type": "stream",
          "name": "stdout",
          "text": [
            "Welcome to the Rock, Paper, Scissors Game!\n",
            "Rules: Rock beats Scissors, Scissors beats Paper, and Paper beats Rock.\n",
            "Type 'rock', 'paper', or 'scissors' to play. Type 'quit' to stop the game.\n",
            "\n",
            "Enter your choice (rock, paper, scissors): hgh\n",
            "Invalid choice. Please choose rock, paper, or scissors.\n",
            "Enter your choice (rock, paper, scissors): ugu\n",
            "Invalid choice. Please choose rock, paper, or scissors.\n",
            "Enter your choice (rock, paper, scissors): uybi\n",
            "Invalid choice. Please choose rock, paper, or scissors.\n",
            "Enter your choice (rock, paper, scissors): 7uijk\n",
            "Invalid choice. Please choose rock, paper, or scissors.\n",
            "Enter your choice (rock, paper, scissors): nuih78nujm\n",
            "Invalid choice. Please choose rock, paper, or scissors.\n",
            "Enter your choice (rock, paper, scissors): hiuj\n",
            "Invalid choice. Please choose rock, paper, or scissors.\n",
            "Enter your choice (rock, paper, scissors): hn\n",
            "Invalid choice. Please choose rock, paper, or scissors.\n",
            "Enter your choice (rock, paper, scissors): ikjbk\n",
            "Invalid choice. Please choose rock, paper, or scissors.\n",
            "Enter your choice (rock, paper, scissors): ijij\n",
            "Invalid choice. Please choose rock, paper, or scissors.\n",
            "Enter your choice (rock, paper, scissors): nkj\n",
            "Invalid choice. Please choose rock, paper, or scissors.\n",
            "Enter your choice (rock, paper, scissors): rock\n",
            "The computer chose: scissors\n",
            "You win! 🎉\n",
            "\n",
            "Enter your choice (rock, paper, scissors): scissors\n",
            "The computer chose: paper\n",
            "You win! 🎉\n",
            "\n",
            "Enter your choice (rock, paper, scissors): paper\n",
            "The computer chose: paper\n",
            "It's a tie!\n",
            "\n"
          ]
        }
      ],
      "source": [
        "import random\n",
        "\n",
        "def rock_paper_scissors():\n",
        "    print(\"Welcome to the Rock, Paper, Scissors Game!\")\n",
        "    print(\"Rules: Rock beats Scissors, Scissors beats Paper, and Paper beats Rock.\")\n",
        "    print(\"Type 'rock', 'paper', or 'scissors' to play. Type 'quit' to stop the game.\\n\")\n",
        "\n",
        "    # List of possible choices\n",
        "    choices = [\"rock\", \"paper\", \"scissors\"]\n",
        "\n",
        "    # Game loop\n",
        "    while True:\n",
        "        # Get user input\n",
        "        user_choice = input(\"Enter your choice (rock, paper, scissors): \").lower()\n",
        "\n",
        "        if user_choice == \"quit\":\n",
        "            print(\"Thanks for playing! Goodbye!\")\n",
        "            break\n",
        "\n",
        "        if user_choice not in choices:\n",
        "            print(\"Invalid choice. Please choose rock, paper, or scissors.\")\n",
        "            continue\n",
        "\n",
        "        # Computer's random choice\n",
        "        computer_choice = random.choice(choices)\n",
        "        print(f\"The computer chose: {computer_choice}\")\n",
        "\n",
        "        # Determine the winner\n",
        "        if user_choice == computer_choice:\n",
        "            print(\"It's a tie!\")\n",
        "        elif (user_choice == \"rock\" and computer_choice == \"scissors\") or \\\n",
        "             (user_choice == \"scissors\" and computer_choice == \"paper\") or \\\n",
        "             (user_choice == \"paper\" and computer_choice == \"rock\"):\n",
        "            print(\"You win! 🎉\")\n",
        "        else:\n",
        "            print(\"You lose! 😞\")\n",
        "\n",
        "        print()  # Print a blank line for better readability\n",
        "\n",
        "# Run the game\n",
        "rock_paper_scissors()\n",
        "niu8nui8mnij nknj"
      ]
    }
  ]
}