{
  "nbformat": 4,
  "nbformat_minor": 0,
  "metadata": {
    "colab": {
      "provenance": [],
      "authorship_tag": "ABX9TyNUQqSq9075PjFfsjzyEo+1",
      "include_colab_link": true
    },
    "kernelspec": {
      "name": "python3",
      "display_name": "Python 3"
    },
    "language_info": {
      "name": "python"
    }
  },
  "cells": [
    {
      "cell_type": "markdown",
      "metadata": {
        "id": "view-in-github",
        "colab_type": "text"
      },
      "source": [
        "<a href=\"https://colab.research.google.com/github/m-hunzala/python/blob/main/guess_the_number_game_03.ipynb\" target=\"_parent\"><img src=\"https://colab.research.google.com/assets/colab-badge.svg\" alt=\"Open In Colab\"/></a>"
      ]
    },
    {
      "cell_type": "code",
      "execution_count": null,
      "metadata": {
        "colab": {
          "base_uri": "https://localhost:8080/"
        },
        "id": "-qhiRcLDwW9q",
        "outputId": "b2781e26-fe28-4a35-c2e8-f411e45b4717"
      },
      "outputs": [
        {
          "output_type": "stream",
          "name": "stdout",
          "text": [
            "Welcome to the Guess the Number Game!\n",
            "Think of a number between 1 and 100, and I'll try to guess it.\n",
            "\n",
            "My guess is: 50\n"
          ]
        }
      ],
      "source": [
        "import random\n",
        "\n",
        "def computer_guesses_number():\n",
        "    print(\"Welcome to the Guess the Number Game!\")\n",
        "    print(\"Think of a number between 1 and 100, and I'll try to guess it.\\n\")\n",
        "\n",
        "    low = 1  # Lower bound\n",
        "    high = 100  # Upper bound\n",
        "    attempts = 0  # Track number of guesses\n",
        "\n",
        "    while True:\n",
        "        # Computer guesses the midpoint\n",
        "        guess = (low + high) // 2\n",
        "        attempts += 1\n",
        "\n",
        "        # Ask the user for feedback\n",
        "        print(f\"My guess is: {guess}\")\n",
        "        user_feedback = input(\"Is it (h)igher, (l)ower, or (c)orrect? \").lower()\n",
        "\n",
        "        if user_feedback == 'h':\n",
        "            low = guess + 1  # Update the lower bound\n",
        "        elif user_feedback == 'l':\n",
        "            high = guess - 1  # Update the upper bound\n",
        "        elif user_feedback == 'c':\n",
        "            print(f\"Yay! I guessed your number {guess} in {attempts} attempts. 🎉\")\n",
        "            break\n",
        "        else:\n",
        "            print(\"Please enter 'h' for higher, 'l' for lower, or 'c' for correct.\")\n",
        "\n",
        "# Run the game\n",
        "computer_guesses_number()\n"
      ]
    }
  ]
}