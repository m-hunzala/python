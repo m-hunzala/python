{
  "nbformat": 4,
  "nbformat_minor": 0,
  "metadata": {
    "colab": {
      "provenance": [],
      "authorship_tag": "ABX9TyPZEskWWvnAMnFyOAaN0U+H",
      "include_colab_link": true
    },
    "kernelspec": {
      "name": "python3",
      "display_name": "Python 3"
    },
    "language_info": {
      "name": "python"
    }
  },
  "cells": [
    {
      "cell_type": "markdown",
      "metadata": {
        "id": "view-in-github",
        "colab_type": "text"
      },
      "source": [
        "<a href=\"https://colab.research.google.com/github/m-hunzala/python/blob/main/build_python_website_09.ipynb\" target=\"_parent\"><img src=\"https://colab.research.google.com/assets/colab-badge.svg\" alt=\"Open In Colab\"/></a>"
      ]
    },
    {
      "cell_type": "code",
      "source": [
        "import streamlit as st\n",
        "\n",
        "# Streamlit Website Layout\n",
        "st.title(\"Welcome to My Simple Python Website! 🌐\")\n",
        "st.write(\"This is a simple website built with **Streamlit**.\")\n",
        "\n",
        "# Sidebar Navigation\n",
        "st.sidebar.title(\"Navigation\")\n",
        "page = st.sidebar.radio(\n",
        "    \"Go to:\",\n",
        "    ['Home', 'About', 'Contact']\n",
        ")\n",
        "\n",
        "# Different Pages\n",
        "if page == 'Home':\n",
        "    st.subheader(\"Home Page\")\n",
        "    st.write(\"Welcome to the home page of our Streamlit website.\")\n",
        "    st.image(\"https://example.com/welcome_image.jpg\", caption=\"Welcome Image\")\n",
        "\n",
        "elif page == 'About':\n",
        "    st.subheader(\"About Page\")\n",
        "    st.write(\"This is the about page where you can learn more about us.\")\n",
        "    st.text(\"Streamlit helps build simple, beautiful web apps easily!\")\n",
        "\n",
        "elif page == 'Contact':\n",
        "    st.subheader(\"Contact Page\")\n",
        "    st.write(\"Reach out to us via email or social media.\")\n",
        "    st.text(\"Email: contact@example.com\")\n",
        "    st.text(\"Twitter: @example\")\n",
        "    st.text(\"LinkedIn: linkedin.com/in/example\")\n"
      ],
      "metadata": {
        "colab": {
          "base_uri": "https://localhost:8080/"
        },
        "id": "JqfxsAkE70g6",
        "outputId": "66c4bff9-d682-4950-d2b7-43aec9312e1d"
      },
      "execution_count": 8,
      "outputs": [
        {
          "output_type": "stream",
          "name": "stderr",
          "text": [
            "2024-12-17 00:05:54.730 Thread 'MainThread': missing ScriptRunContext! This warning can be ignored when running in bare mode.\n",
            "2024-12-17 00:05:54.738 Thread 'MainThread': missing ScriptRunContext! This warning can be ignored when running in bare mode.\n",
            "2024-12-17 00:05:54.745 Thread 'MainThread': missing ScriptRunContext! This warning can be ignored when running in bare mode.\n",
            "2024-12-17 00:05:54.747 Thread 'MainThread': missing ScriptRunContext! This warning can be ignored when running in bare mode.\n",
            "2024-12-17 00:05:54.750 Thread 'MainThread': missing ScriptRunContext! This warning can be ignored when running in bare mode.\n",
            "2024-12-17 00:05:54.754 Thread 'MainThread': missing ScriptRunContext! This warning can be ignored when running in bare mode.\n",
            "2024-12-17 00:05:54.762 Thread 'MainThread': missing ScriptRunContext! This warning can be ignored when running in bare mode.\n",
            "2024-12-17 00:05:54.765 Thread 'MainThread': missing ScriptRunContext! This warning can be ignored when running in bare mode.\n",
            "2024-12-17 00:05:54.779 Thread 'MainThread': missing ScriptRunContext! This warning can be ignored when running in bare mode.\n",
            "2024-12-17 00:05:54.781 Thread 'MainThread': missing ScriptRunContext! This warning can be ignored when running in bare mode.\n",
            "2024-12-17 00:05:54.784 Thread 'MainThread': missing ScriptRunContext! This warning can be ignored when running in bare mode.\n",
            "2024-12-17 00:05:54.789 Thread 'MainThread': missing ScriptRunContext! This warning can be ignored when running in bare mode.\n",
            "2024-12-17 00:05:54.792 Thread 'MainThread': missing ScriptRunContext! This warning can be ignored when running in bare mode.\n",
            "2024-12-17 00:05:54.796 Thread 'MainThread': missing ScriptRunContext! This warning can be ignored when running in bare mode.\n",
            "2024-12-17 00:05:54.798 Thread 'MainThread': missing ScriptRunContext! This warning can be ignored when running in bare mode.\n",
            "2024-12-17 00:05:54.807 Thread 'MainThread': missing ScriptRunContext! This warning can be ignored when running in bare mode.\n",
            "2024-12-17 00:05:54.812 Thread 'MainThread': missing ScriptRunContext! This warning can be ignored when running in bare mode.\n",
            "2024-12-17 00:05:54.813 Thread 'MainThread': missing ScriptRunContext! This warning can be ignored when running in bare mode.\n",
            "2024-12-17 00:05:54.820 Thread 'MainThread': missing ScriptRunContext! This warning can be ignored when running in bare mode.\n",
            "2024-12-17 00:05:54.823 Thread 'MainThread': missing ScriptRunContext! This warning can be ignored when running in bare mode.\n",
            "2024-12-17 00:05:54.825 Thread 'MainThread': missing ScriptRunContext! This warning can be ignored when running in bare mode.\n",
            "2024-12-17 00:05:54.827 Thread 'MainThread': missing ScriptRunContext! This warning can be ignored when running in bare mode.\n",
            "2024-12-17 00:05:54.830 Thread 'MainThread': missing ScriptRunContext! This warning can be ignored when running in bare mode.\n"
          ]
        }
      ]
    }
  ]
}