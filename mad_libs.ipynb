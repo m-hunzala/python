{
  "nbformat": 4,
  "nbformat_minor": 0,
  "metadata": {
    "colab": {
      "provenance": [],
      "authorship_tag": "ABX9TyOQuh1wW+VibYKG3TYB2Kc7",
      "include_colab_link": true
    },
    "kernelspec": {
      "name": "python3",
      "display_name": "Python 3"
    },
    "language_info": {
      "name": "python"
    }
  },
  "cells": [
    {
      "cell_type": "markdown",
      "metadata": {
        "id": "view-in-github",
        "colab_type": "text"
      },
      "source": [
        "<a href=\"https://colab.research.google.com/github/m-hunzala/python/blob/main/mad_libs.ipynb\" target=\"_parent\"><img src=\"https://colab.research.google.com/assets/colab-badge.svg\" alt=\"Open In Colab\"/></a>"
      ]
    },
    {
      "cell_type": "code",
      "execution_count": null,
      "metadata": {
        "colab": {
          "base_uri": "https://localhost:8080/"
        },
        "id": "I6nivDLPjopj",
        "outputId": "b7e83567-6137-4ea7-a32d-81f290897e42"
      },
      "outputs": [
        {
          "output_type": "stream",
          "name": "stdout",
          "text": [
            "Welcome to the Mad Libs Game!\n",
            "Provide the following words, and we'll create a funny story for you.\n",
            "\n"
          ]
        }
      ],
      "source": [
        "# Mad Libs Game\n",
        "def mad_libs():\n",
        "    print(\"Welcome to the Mad Libs Game!\")\n",
        "    print(\"Provide the following words, and we'll create a funny story for you.\\n\")\n",
        "\n",
        "    # Collect user inputs\n",
        "    noun1 = input(\"Enter a noun: \")\n",
        "    adjective1 = input(\"Enter an adjective: \")\n",
        "    verb1 = input(\"Enter a verb: \")\n",
        "    place = input(\"Enter a place: \")\n",
        "    animal = input(\"Enter an animal: \")\n",
        "    number = input(\"Enter a number: \")\n",
        "\n",
        "    # Mad Libs story template\n",
        "    story = f\"\"\"\n",
        "    Once upon a time, in a {adjective1} {place}, there lived a {animal}.\n",
        "    Every day, it loved to {verb1} around and collect {noun1}.\n",
        "    One day, it found a treasure chest with {number} golden coins inside.\n",
        "    The {animal} was so excited that it shared the treasure with everyone in the {place}.\n",
        "    And they all lived happily ever after!\n",
        "    \"\"\"\n",
        "\n",
        "    # Print the generated story\n",
        "    print(\"\\nHere’s your Mad Libs story:\")\n",
        "    print(story)\n",
        "\n",
        "# Run the game\n",
        "mad_libs()\n"
      ]
    },
    {
      "cell_type": "code",
      "source": [],
      "metadata": {
        "id": "rod_3S3bkN-6"
      },
      "execution_count": null,
      "outputs": []
    }
  ]
}